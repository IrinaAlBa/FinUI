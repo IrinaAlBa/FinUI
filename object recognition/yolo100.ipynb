{
 "cells": [
  {
   "cell_type": "code",
   "execution_count": null,
   "id": "614a88aa",
   "metadata": {},
   "outputs": [],
   "source": [
    "import ultralytics\n",
    "from ultralytics import YOLO"
   ]
  },
  {
   "cell_type": "code",
   "execution_count": null,
   "id": "98eb512d",
   "metadata": {},
   "outputs": [],
   "source": [
    "ultralytics.checks()"
   ]
  },
  {
   "cell_type": "code",
   "execution_count": null,
   "id": "2bd75030",
   "metadata": {},
   "outputs": [],
   "source": [
    "model = YOLO('vins.pt')"
   ]
  },
  {
   "cell_type": "code",
   "execution_count": null,
   "id": "7ff3c6d0",
   "metadata": {},
   "outputs": [],
   "source": [
    "# train and validate on 100 dataset\n",
    "model.train(data='100.yaml', epochs=2000, lr0=0.001)"
   ]
  },
  {
   "cell_type": "code",
   "execution_count": null,
   "id": "7b79a784",
   "metadata": {},
   "outputs": [],
   "source": [
    "# pick the best result\n",
    "model = YOLO('runs\\\\detect\\\\train\\\\weights\\\\best.pt')"
   ]
  },
  {
   "cell_type": "code",
   "execution_count": null,
   "id": "ba9aec96",
   "metadata": {},
   "outputs": [],
   "source": [
    "# validate out-of-sample\n",
    "model.val(data='100.yaml')"
   ]
  },
  {
   "cell_type": "code",
   "execution_count": null,
   "id": "ae5eea91",
   "metadata": {},
   "outputs": [],
   "source": [
    "import cv2\n",
    "base_dir = './datasets/FinUI/images/'\n",
    "img = cv2.imread(base_dir + '002.png')\n",
    "img = cv2.cvtColor(img, cv2.COLOR_BGR2RGB)"
   ]
  },
  {
   "cell_type": "code",
   "execution_count": null,
   "id": "f23dc755",
   "metadata": {},
   "outputs": [],
   "source": [
    "res = model.predict(img)[0]"
   ]
  },
  {
   "cell_type": "code",
   "execution_count": null,
   "id": "5877fed6",
   "metadata": {},
   "outputs": [],
   "source": [
    "res.boxes.boxes[0]"
   ]
  },
  {
   "cell_type": "code",
   "execution_count": null,
   "id": "8974ac16",
   "metadata": {},
   "outputs": [],
   "source": [
    "import pandas as pd\n",
    "import matplotlib.colors as mc\n",
    "import matplotlib.pyplot as plt"
   ]
  },
  {
   "cell_type": "code",
   "execution_count": null,
   "id": "25074429",
   "metadata": {},
   "outputs": [],
   "source": [
    "df = pd.read_csv('../datasets/FinUI/csv/002.csv')"
   ]
  },
  {
   "cell_type": "code",
   "execution_count": null,
   "id": "a6eb39c4",
   "metadata": {},
   "outputs": [],
   "source": [
    "# classes = list(df.loc[~df['class'].isin(['block', 'table', 'chart'])]['class'].unique())\n",
    "classes = list(df['class'].unique())"
   ]
  },
  {
   "cell_type": "code",
   "execution_count": null,
   "id": "c81b785e",
   "metadata": {},
   "outputs": [],
   "source": [
    "for idx, row in df.iterrows():\n",
    "    c = mc.to_rgb(mc.TABLEAU_COLORS[list(mc.TABLEAU_COLORS.keys())[classes.index(row['class'])]])\n",
    "    c = 255*np.array(c)\n",
    "    cv2.rectangle(img, (row.xmin, row.ymin), (row.xmax, row.ymax), (int(c[0]), int(c[1]), int(c[2])), 5)"
   ]
  },
  {
   "cell_type": "code",
   "execution_count": null,
   "id": "1393b2e6",
   "metadata": {},
   "outputs": [],
   "source": [
    "fig = plt.figure(figsize=(16,14))\n",
    "plt.imshow(img)\n",
    "plt.axis('off')\n",
    "plt.show()"
   ]
  },
  {
   "cell_type": "code",
   "execution_count": null,
   "id": "b958e053",
   "metadata": {},
   "outputs": [],
   "source": [
    "classes"
   ]
  },
  {
   "cell_type": "code",
   "execution_count": null,
   "id": "d2fea293",
   "metadata": {},
   "outputs": [],
   "source": [
    "for i in range(len(classes)):\n",
    "    plt.plot([1, 2], [i, i], color=mc.TABLEAU_COLORS[list(mc.TABLEAU_COLORS.keys())[i]], label=classes[i], linewidth=5)\n",
    "plt.legend()\n",
    "plt.xlim([0, 3])\n",
    "plt.ylim([-2, 7])\n",
    "plt.show()"
   ]
  }
 ],
 "metadata": {
  "kernelspec": {
   "display_name": "yolov8",
   "language": "python",
   "name": "yolov8"
  },
  "language_info": {
   "codemirror_mode": {
    "name": "ipython",
    "version": 3
   },
   "file_extension": ".py",
   "mimetype": "text/x-python",
   "name": "python",
   "nbconvert_exporter": "python",
   "pygments_lexer": "ipython3",
   "version": "3.9.16"
  }
 },
 "nbformat": 4,
 "nbformat_minor": 5
}
