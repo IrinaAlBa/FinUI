{
 "cells": [
  {
   "cell_type": "code",
   "execution_count": null,
   "id": "9d0b01d7",
   "metadata": {},
   "outputs": [],
   "source": [
    "import ultralytics\n",
    "from ultralytics import YOLO"
   ]
  },
  {
   "cell_type": "code",
   "execution_count": null,
   "id": "2787a073",
   "metadata": {},
   "outputs": [],
   "source": [
    "ultralytics.checks()"
   ]
  },
  {
   "cell_type": "code",
   "execution_count": null,
   "id": "4541bec2",
   "metadata": {},
   "outputs": [],
   "source": [
    "# light pre-trained model\n",
    "model = YOLO('yolov8n.pt')"
   ]
  },
  {
   "cell_type": "code",
   "execution_count": null,
   "id": "1a68ea36",
   "metadata": {},
   "outputs": [],
   "source": [
    "# train and validate on VINS dataset\n",
    "model.train(data='vins.yaml', epochs=50)"
   ]
  },
  {
   "cell_type": "code",
   "execution_count": null,
   "id": "a39181e1",
   "metadata": {},
   "outputs": [],
   "source": [
    "# pick the best result\n",
    "model = YOLO('runs\\\\detect\\\\train\\\\weights\\\\best.pt')"
   ]
  },
  {
   "cell_type": "code",
   "execution_count": null,
   "id": "5e7ca564",
   "metadata": {},
   "outputs": [],
   "source": [
    "# validate out-of-sample\n",
    "model.val(data='vins_test.yaml')"
   ]
  },
  {
   "cell_type": "code",
   "execution_count": null,
   "id": "4a9cfead",
   "metadata": {},
   "outputs": [],
   "source": [
    "import cv2\n",
    "import matplotlib\n",
    "import matplotlib.pyplot as plt\n",
    "plt.rcParams['figure.figsize'] = (14, 10)\n",
    "matplotlib.rc('xtick', labelsize=14) \n",
    "matplotlib.rc('ytick', labelsize=14) \n",
    "import numpy as np\n",
    "import os"
   ]
  },
  {
   "cell_type": "code",
   "execution_count": null,
   "id": "b25e6fc1",
   "metadata": {},
   "outputs": [],
   "source": [
    "img = cv2.imread('runs\\\\detect\\\\val\\\\confusion_matrix.png')\n",
    "img = cv2.cvtColor(img, cv2.COLOR_BGR2RGB)\n",
    "plt.imshow(np.array(img))\n",
    "plt.axis('off')\n",
    "plt.show()"
   ]
  },
  {
   "cell_type": "code",
   "execution_count": null,
   "id": "a4911e73",
   "metadata": {},
   "outputs": [],
   "source": [
    "class_name_to_id_mapping = {\n",
    "    'Text': 0, 'Icon': 1, 'Image': 2, 'TextButton': 3, \n",
    "    'UpperTaskBar': 4, 'EditText': 5, 'PageIndicator': 6, 'CheckedTextView': 7\n",
    "}\n",
    "labels = dict(zip(class_name_to_id_mapping.values(), class_name_to_id_mapping.keys()))\n",
    "colors = [(0, 0, 255), (0, 255, 0), (0, 255, 0), (0, 0, 255), (255, 0, 0), (0, 0, 255), (255, 0, 0), (0, 0, 255)]\n",
    "\n",
    "\n",
    "def box_label(image, box, label='', color=(128, 128, 128), txt_color=(255, 255, 255)): \n",
    "    lw = max(round(sum(image.shape) / 2 * 0.003), 2)\n",
    "    p1, p2 = (int(box[0]), int(box[1])), (int(box[2]), int(box[3]))\n",
    "    cv2.rectangle(image, p1, p2, color, thickness=lw, lineType=cv2.LINE_AA)\n",
    "    if label:\n",
    "        tf = max(lw - 1, 1)  # font thickness\n",
    "        w, h = cv2.getTextSize(label, 0, fontScale=lw / 3, thickness=tf)[0]  # text width, height\n",
    "        outside = p1[1] - h >= 3\n",
    "        p2 = p1[0] + w, p1[1] - h - 3 if outside else p1[1] + h + 3\n",
    "        cv2.rectangle(image, p1, p2, color, -1, cv2.LINE_AA)  # filled\n",
    "        cv2.putText(\n",
    "            image, label, \n",
    "            (p1[0], p1[1] - 2 if outside else p1[1] + h + 2),\n",
    "            0, lw / 3, txt_color,\n",
    "            thickness=tf,\n",
    "            lineType=cv2.LINE_AA\n",
    "        )\n",
    "    \n",
    "def plot_bboxes(image, boxes, labels=[], colors=[]):\n",
    "\n",
    "    for box in boxes:\n",
    "        n = int(box[-1])\n",
    "        box_label(image, box, [], colors[n])\n",
    "\n",
    "    plt.imshow(image)\n",
    "    plt.axis('off')\n",
    "    plt.show()"
   ]
  },
  {
   "cell_type": "code",
   "execution_count": null,
   "id": "4a04a74e",
   "metadata": {},
   "outputs": [],
   "source": [
    "# random prediction example\n",
    "base_dir = 'datasets\\\\vins\\\\test\\\\images'\n",
    "images = os.listdir(base_dir)\n",
    "fn = images[np.random.randint(len(images))]\n",
    "\n",
    "img = cv2.imread(os.path.join(base_dir, fn))\n",
    "img = cv2.cvtColor(img, cv2.COLOR_BGR2RGB)\n",
    "\n",
    "res = model.predict(img)[0]\n",
    "plot_bboxes(img, res.boxes.boxes, labels, colors)"
   ]
  },
  {
   "cell_type": "code",
   "execution_count": null,
   "id": "bd03f9a2",
   "metadata": {},
   "outputs": [],
   "source": [
    "# random prediction example\n",
    "img = cv2.imread('../datasets/FinUI/images/086.png')\n",
    "img = cv2.cvtColor(img, cv2.COLOR_BGR2RGB)\n",
    "\n",
    "res = model.predict(img)[0]\n",
    "plot_bboxes(img, res.boxes.boxes, labels, colors)"
   ]
  }
 ],
 "metadata": {
  "kernelspec": {
   "display_name": "yolo",
   "language": "python",
   "name": "yolo"
  },
  "language_info": {
   "codemirror_mode": {
    "name": "ipython",
    "version": 3
   },
   "file_extension": ".py",
   "mimetype": "text/x-python",
   "name": "python",
   "nbconvert_exporter": "python",
   "pygments_lexer": "ipython3",
   "version": "3.9.16"
  }
 },
 "nbformat": 4,
 "nbformat_minor": 5
}
