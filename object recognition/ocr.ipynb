{
 "cells": [
  {
   "cell_type": "code",
   "execution_count": null,
   "id": "4870d8bd",
   "metadata": {},
   "outputs": [],
   "source": [
    "import os\n",
    "import cv2\n",
    "import easyocr\n",
    "import json"
   ]
  },
  {
   "cell_type": "code",
   "execution_count": null,
   "id": "faed58c1",
   "metadata": {},
   "outputs": [],
   "source": [
    "import pandas as pd\n",
    "import matplotlib.pyplot as plt\n",
    "import numpy as np"
   ]
  },
  {
   "cell_type": "code",
   "execution_count": null,
   "id": "d6be4971",
   "metadata": {},
   "outputs": [],
   "source": [
    "img = cv2.imread('../datasets/FinUI/images/086.png')\n",
    "img = cv2.cvtColor(img, cv2.COLOR_BGR2RGB)\n",
    "img = cv2.resize(img, tuple(np.array(img.shape[:2][::-1])*2), cv2.INTER_CUBIC)"
   ]
  },
  {
   "cell_type": "code",
   "execution_count": null,
   "id": "9f33e13a",
   "metadata": {},
   "outputs": [],
   "source": [
    "reader = easyocr.Reader(['en'])"
   ]
  },
  {
   "cell_type": "code",
   "execution_count": null,
   "id": "62f66a4e",
   "metadata": {},
   "outputs": [],
   "source": [
    "result = reader.readtext(img, text_threshold=.5, height_ths=0.7, width_ths=0.9)"
   ]
  },
  {
   "cell_type": "code",
   "execution_count": null,
   "id": "453f24c5",
   "metadata": {},
   "outputs": [],
   "source": [
    "text = []\n",
    "\n",
    "for t in filter(lambda x: x[-1] > .1, result):\n",
    "    box, txt, conf = t\n",
    "\n",
    "    img = cv2.rectangle(\n",
    "        img, [int(i) for i in box[0]], [int(i) for i in box[2]], (255, 0, 0), 2\n",
    "    )\n",
    "\n",
    "    text.append(txt)"
   ]
  },
  {
   "cell_type": "code",
   "execution_count": null,
   "id": "f874e600",
   "metadata": {
    "scrolled": false
   },
   "outputs": [],
   "source": [
    "plt.figure(figsize=(14, 10))\n",
    "plt.imshow(img)\n",
    "plt.show()"
   ]
  },
  {
   "cell_type": "code",
   "execution_count": null,
   "id": "fb5d98c8",
   "metadata": {},
   "outputs": [],
   "source": []
  }
 ],
 "metadata": {
  "kernelspec": {
   "display_name": "easyocr",
   "language": "python",
   "name": "easyocr"
  },
  "language_info": {
   "codemirror_mode": {
    "name": "ipython",
    "version": 3
   },
   "file_extension": ".py",
   "mimetype": "text/x-python",
   "name": "python",
   "nbconvert_exporter": "python",
   "pygments_lexer": "ipython3",
   "version": "3.8.16"
  }
 },
 "nbformat": 4,
 "nbformat_minor": 5
}
