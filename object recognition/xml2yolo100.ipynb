{
 "cells": [
  {
   "cell_type": "code",
   "execution_count": null,
   "id": "403a749d",
   "metadata": {},
   "outputs": [],
   "source": [
    "import os \n",
    "import shutil\n",
    "import xml.etree.ElementTree as ET\n",
    "from tqdm import tqdm\n",
    "import pandas as pd\n",
    "import numpy as np\n",
    "import matplotlib\n",
    "import matplotlib.pyplot as plt\n",
    "from PIL import Image, ImageDraw, ImageFont\n",
    "from sklearn.model_selection import train_test_split\n",
    "\n",
    "plt.rcParams['figure.figsize'] = (16, 12)\n",
    "matplotlib.rc('xtick', labelsize=14) \n",
    "matplotlib.rc('ytick', labelsize=14) "
   ]
  },
  {
   "cell_type": "code",
   "execution_count": null,
   "id": "92b9f2f3",
   "metadata": {},
   "outputs": [],
   "source": [
    "# locations of data\n",
    "base_dir = '../datasets/FinUI'\n",
    "label_dir = 'xml'\n",
    "image_dir = 'images'\n",
    "target = os.path.join(os.path.join(os.getcwd(), 'datasets'), '100')"
   ]
  },
  {
   "cell_type": "code",
   "execution_count": null,
   "id": "310de230",
   "metadata": {},
   "outputs": [],
   "source": [
    "# Function to get the data from xml annotation\n",
    "def parse_xml(xml_file):\n",
    "    root = ET.parse(xml_file).getroot()\n",
    "    \n",
    "    # Initialise the annotations dict \n",
    "    a_dict = {}\n",
    "    a_dict['bboxes'] = []\n",
    "\n",
    "    # Parse the XML Tree\n",
    "    for elem in root:\n",
    "        # Get the file name \n",
    "        if elem.tag == 'filename':\n",
    "            a_dict['filename'] = elem.text\n",
    "        if elem.tag == 'file':\n",
    "            a_dict['filename'] = elem.text + '.png'\n",
    "            \n",
    "        # Get the image size\n",
    "        elif elem.tag == 'size':\n",
    "            image_size = []\n",
    "            for subelem in elem:\n",
    "                image_size.append(int(subelem.text.split('.')[0]))\n",
    "            \n",
    "            a_dict['image_size'] = tuple(image_size)\n",
    "        \n",
    "        # Get details of the bounding box \n",
    "        elif elem.tag == 'object':\n",
    "            bbox = {}\n",
    "            for subelem in elem:\n",
    "                if subelem.tag == 'name':\n",
    "                    bbox['class'] = subelem.text\n",
    "                    \n",
    "                elif subelem.tag == 'bndbox':\n",
    "                    for subsubelem in subelem:\n",
    "                        bbox[subsubelem.tag] = int(subsubelem.text.split('.')[0])            \n",
    "            a_dict['bboxes'].append(bbox)\n",
    "    \n",
    "    return a_dict"
   ]
  },
  {
   "cell_type": "code",
   "execution_count": null,
   "id": "937dc7cc",
   "metadata": {},
   "outputs": [],
   "source": [
    "# Function to convert the annotations dict to YOLO format\n",
    "def dic2yolo(a_dict):\n",
    "    out = []\n",
    "    \n",
    "    # For each bounding box\n",
    "    for b in a_dict['bboxes']:\n",
    "        if not b['class'] in class_name_to_id_mapping:\n",
    "            continue\n",
    "        class_id = class_name_to_id_mapping[b[\"class\"]]\n",
    "        \n",
    "        # Transform the bbox co-ordinates to YOLO format\n",
    "        b_center_x = (b['xmin'] + b['xmax']) / 2 \n",
    "        b_center_y = (b['ymin'] + b['ymax']) / 2\n",
    "        b_width    = (b['xmax'] - b['xmin'])\n",
    "        b_height   = (b['ymax'] - b['ymin'])\n",
    "        \n",
    "        # Normalise the co-ordinates by the dimensions of the image\n",
    "        image_w, image_h, image_c = a_dict['image_size']\n",
    "        b_center_x /= image_w \n",
    "        b_center_y /= image_h \n",
    "        b_width    /= image_w \n",
    "        b_height   /= image_h \n",
    "        \n",
    "        # format the output\n",
    "        out.append(\"{} {:.3f} {:.3f} {:.3f} {:.3f}\".format(class_id, b_center_x, b_center_y, b_width, b_height))\n",
    "        \n",
    "    return out"
   ]
  },
  {
   "cell_type": "markdown",
   "id": "c407f81b",
   "metadata": {},
   "source": [
    "## Getting all classes and plotting frequency histogram"
   ]
  },
  {
   "cell_type": "code",
   "execution_count": null,
   "id": "f6f8d82e",
   "metadata": {},
   "outputs": [],
   "source": [
    "classes = []\n",
    "\n",
    "data_dir = os.path.join(base_dir, label_dir)\n",
    "\n",
    "for fn in os.listdir(data_dir):\n",
    "    if fn.split('.')[1] != 'xml':\n",
    "        continue\n",
    "    classes += [d['class'] for d in parse_xml(os.path.join(data_dir, fn))['bboxes']]\n",
    "        \n",
    "c = pd.Series(classes).value_counts()\n",
    "c /= c.sum()\n",
    "\n",
    "# select only classes with decent stats\n",
    "c = c[c>0.01]\n",
    "\n",
    "plt.bar(c.index, c.values)\n",
    "plt.ylabel('Probability of Occurence', labelpad=10, fontsize=18)\n",
    "plt.xticks(rotation=90)\n",
    "plt.show()\n",
    "\n",
    "# maps class names to IDs\n",
    "class_name_to_id_mapping = {}\n",
    "for i in range(len(c)):\n",
    "    class_name_to_id_mapping[c.index[i].capitalize()] = i\n",
    "\n",
    "class_name_to_id_mapping = {\n",
    "    'chart': 0,\n",
    "    'table': 1\n",
    "}\n",
    "print(class_name_to_id_mapping)"
   ]
  },
  {
   "cell_type": "markdown",
   "id": "2578f52c",
   "metadata": {},
   "source": [
    "## Coverting all annotations from xml to YOLO txt"
   ]
  },
  {
   "cell_type": "code",
   "execution_count": null,
   "id": "477c7d4f",
   "metadata": {},
   "outputs": [],
   "source": [
    "data_dir = os.path.join(base_dir, label_dir)\n",
    "annotations = [os.path.join(data_dir, x) for x in os.listdir(data_dir) if x[-3:] == \"xml\"]\n",
    "annotations.sort()\n",
    "\n",
    "for fn in annotations:\n",
    "    a_dict = parse_xml(fn)\n",
    "    b = a_dict['bboxes']\n",
    "    bb = []\n",
    "    for e in b:\n",
    "        if e['class'] in ['chart', 'table']:\n",
    "            bb.append(e)\n",
    "    if len(bb)>0:\n",
    "        a_dict['bboxes'] = bb        \n",
    "    \n",
    "        out = dic2yolo(a_dict)\n",
    "        if len(out) > 0:\n",
    "            out_fn = os.path.join('100\\\\yolo', a_dict['filename'].replace('png', 'txt'))\n",
    "            print('\\n'.join(out), file= open(out_fn, 'w'))  "
   ]
  },
  {
   "cell_type": "markdown",
   "id": "b93241b8",
   "metadata": {},
   "source": [
    "## Dataset Partitioning"
   ]
  },
  {
   "cell_type": "code",
   "execution_count": null,
   "id": "910d41e1",
   "metadata": {},
   "outputs": [],
   "source": [
    "im_dir = os.path.join(base_dir, image_dir)\n",
    "images = [os.path.join(im_dir, x) for x in os.listdir(im_dir)]\n",
    "ann_dir = os.path.join(base_dir, 'yolo')\n",
    "annotations = [os.path.join(ann_dir, x) for x in os.listdir(ann_dir)]\n",
    "\n",
    "images = images[:85] + images[86:]\n",
    "\n",
    "train_images, val_images, train_labels, val_labels = train_test_split(\n",
    "    images, annotations, test_size = 0.3, random_state = 1\n",
    ")\n",
    "\n",
    "my_vars = locals()\n",
    "for data_split in ['train', 'val']:\n",
    "    for data_type in ['images', 'labels']:\n",
    "        base_dir = os.path.join(target, data_split)\n",
    "        destination = os.path.join(base_dir, data_type)\n",
    "        if os.path.exists(destination):\n",
    "            shutil.rmtree(destination, ignore_errors=True)\n",
    "        os.makedirs(destination)\n",
    "        for fn in my_vars[f'{data_split}_{data_type}']:\n",
    "            try:\n",
    "                shutil.copy(fn, destination)\n",
    "            except:\n",
    "                print(f)\n",
    "                assert False"
   ]
  },
  {
   "cell_type": "code",
   "execution_count": null,
   "id": "aeb3118b",
   "metadata": {},
   "outputs": [],
   "source": [
    "# create yaml\n",
    "out = [\n",
    "    'train: datasets/100/train/images',\n",
    "    'val: datasets/100/val/images',\n",
    "    f'nc: {len(class_name_to_id_mapping)}',\n",
    "    f'names: {list(class_name_to_id_mapping)}'\n",
    "]\n",
    "print('\\n'.join(out), file= open('datasets/100.yaml', 'w'))  "
   ]
  },
  {
   "cell_type": "code",
   "execution_count": null,
   "id": "d889e2af",
   "metadata": {},
   "outputs": [],
   "source": []
  }
 ],
 "metadata": {
  "kernelspec": {
   "display_name": "yolov8",
   "language": "python",
   "name": "yolov8"
  },
  "language_info": {
   "codemirror_mode": {
    "name": "ipython",
    "version": 3
   },
   "file_extension": ".py",
   "mimetype": "text/x-python",
   "name": "python",
   "nbconvert_exporter": "python",
   "pygments_lexer": "ipython3",
   "version": "3.9.16"
  }
 },
 "nbformat": 4,
 "nbformat_minor": 5
}
