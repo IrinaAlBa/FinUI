{
 "cells": [
  {
   "cell_type": "code",
   "execution_count": null,
   "id": "a5c844d0",
   "metadata": {},
   "outputs": [],
   "source": [
    "import cv2\n",
    "import numpy as np\n",
    "import pandas as pd\n",
    "import os\n",
    "import matplotlib.pyplot as plt\n",
    "import seaborn as sns\n",
    "from tqdm import tqdm\n",
    "from sklearn.linear_model import LinearRegression\n",
    "from sklearn.model_selection import train_test_split\n",
    "import sys\n",
    "sys.path.append('..')\n",
    "\n",
    "from features.imtools import get_features"
   ]
  },
  {
   "cell_type": "code",
   "execution_count": null,
   "id": "e3fb1c89",
   "metadata": {},
   "outputs": [],
   "source": [
    "df = pd.read_csv('../datasets/FinUI/100_avg_scores.csv')\n",
    "df = df.set_index(np.arange(1, 101))"
   ]
  },
  {
   "cell_type": "code",
   "execution_count": null,
   "id": "b59a7f1d",
   "metadata": {},
   "outputs": [],
   "source": [
    "img_dir = '../datasets/FinUI/images'\n",
    "csv_dir = '../datasets/FinUI/csv'\n",
    "ocr_dir = '../datasets/FinUI/ocr'\n",
    "images = os.listdir(img_dir)\n",
    "images = [img for img in images if img.split('.')[1] == 'png']\n",
    "labels = os.listdir(csv_dir)\n",
    "txt_labels = os.listdir(ocr_dir)"
   ]
  },
  {
   "cell_type": "markdown",
   "id": "77f95798",
   "metadata": {},
   "source": [
    "# Image features"
   ]
  },
  {
   "cell_type": "code",
   "execution_count": null,
   "id": "6b4fc6d2",
   "metadata": {},
   "outputs": [],
   "source": [
    "if os.path.exists('../datasets/FinUI/100_img_features.csv'):\n",
    "    img_features = pd.read_csv('../datasets/FinUI/100_img_features.csv')\n",
    "    img_features = img_features.set_index(np.arange(1, 101))\n",
    "    \n",
    "else:\n",
    "    img_features = pd.DataFrame()\n",
    "\n",
    "    for fn in tqdm(images):\n",
    "        img = cv2.imread(os.path.join(img_dir, fn))\n",
    "        img = cv2.cvtColor(img, cv2.COLOR_BGR2RGB)\n",
    "        coef = max(tuple(np.array(img.shape[:2][::-1])))/1200\n",
    "        sz = tuple(np.array(img.shape[:2][::-1]/coef).astype(int))\n",
    "        img = cv2.resize(img, sz)\n",
    "\n",
    "        f = get_features(img)\n",
    "        img_features = pd.concat([img_features, pd.DataFrame(f, index=[int(fn.split('.')[0])])])\n",
    "\n",
    "    img_features.to_csv('../datasets/FinUI/100_img_features.csv', index=False)"
   ]
  },
  {
   "cell_type": "code",
   "execution_count": null,
   "id": "25c33422",
   "metadata": {},
   "outputs": [],
   "source": [
    "corr = img_features.corr()\n",
    "fig = plt.figure(figsize=(16,14))\n",
    "\n",
    "ax = sns.heatmap(\n",
    "    corr, \n",
    "    xticklabels=corr.columns.values,\n",
    "    yticklabels=corr.columns.values,\n",
    "    cmap='coolwarm',\n",
    "    vmin=-1, vmax=1, annot=True, fmt='.2f'\n",
    ")\n",
    "plt.show()"
   ]
  },
  {
   "cell_type": "code",
   "execution_count": null,
   "id": "ce38d334",
   "metadata": {},
   "outputs": [],
   "source": [
    "from numpy.random import default_rng\n",
    "from scipy.special import digamma\n",
    "from sklearn.neighbors import KDTree\n",
    "\n",
    "\n",
    "def get_radius_kneighbors(x, n_neighbors):\n",
    "    \"\"\"Determine smallest radius around x containing n_neighbors neighbors\n",
    "\n",
    "    :param x: ndarray, shape (n_samples, n_dim)\n",
    "    :param n_neighbors: number of neighbors\n",
    "    :returns: radius, shape (n_samples,)\n",
    "\n",
    "    \"\"\"\n",
    "    # Use KDTree for simplicity (sometimes a ball tree could be faster)\n",
    "    kd = KDTree(x, metric=\"chebyshev\")\n",
    "\n",
    "    # Results include point itself, therefore n_neighbors+1\n",
    "    neigh_dist = kd.query(x, k=n_neighbors+1)[0]\n",
    "\n",
    "    # Take radius slightly larger than distance to last neighbor\n",
    "    radius = np.nextafter(neigh_dist[:, -1], 0)\n",
    "    return radius\n",
    "\n",
    "\n",
    "def num_points_within_radius(x, radius):\n",
    "    \"\"\"For each point, determine the number of other points within a given radius\n",
    "\n",
    "    :param x: ndarray, shape (n_samples, n_dim)\n",
    "    :param radius: radius, shape (n_samples,)\n",
    "    :returns: number of points within radius\n",
    "\n",
    "    \"\"\"\n",
    "    kd = KDTree(x, metric=\"chebyshev\")\n",
    "    nx = kd.query_radius(x, radius, count_only=True, return_distance=False)\n",
    "    return np.array(nx) - 1.0\n",
    "\n",
    "\n",
    "def preprocess_data(x):\n",
    "    \"\"\"Preprocess data. Ensure x is 2d ndarray, and scale so that the mean absolute\n",
    "    amplitude of each column is one.\n",
    "\n",
    "    :param x: ndarray, shape (n_samples,) or (n_samples, n_features)\n",
    "    :returns: float ndarray, shape (n_samples, n_features)\n",
    "\n",
    "    \"\"\"\n",
    "    x = np.array(x, dtype=np.float64)\n",
    "\n",
    "    if x.ndim == 1:\n",
    "        x = x.reshape(-1, 1)\n",
    "    elif x.ndim != 2:\n",
    "        raise ValueError(f'x.ndim = {x.ndim}, should be 1 or 2')\n",
    "\n",
    "    # Estimate mean absolute amplitude per column\n",
    "    means = np.maximum(1e-100, np.mean(np.abs(x), axis=0))\n",
    "\n",
    "    # Scale so that mean absolute amplitude is one\n",
    "    x = (1/means) * x\n",
    "\n",
    "    return x\n",
    "\n",
    "\n",
    "def add_noise(x, rng, noise_type='uniform', amplitude=1e-10):\n",
    "    \"\"\"Add noise so that samples are probably unique, and convert to float64\"\"\"\n",
    "\n",
    "    if noise_type == 'uniform':\n",
    "        x += amplitude * (rng.random(x.shape) - 0.5)\n",
    "    elif noise_type == 'normal':\n",
    "        x += amplitude * rng.normal(size=x.shape)\n",
    "    else:\n",
    "        raise ValueError('Invalid noise type')\n",
    "\n",
    "    return x\n",
    "\n",
    "\n",
    "def compute_mi(x, y, n_neighbors=3, noise_type=None):\n",
    "    \"\"\"Compute mutual information between two continuous variables.\n",
    "\n",
    "    :param x: real ndarray, shape (n_samples,) or (n_samples, n_features)\n",
    "    :param y: real ndarray, shape (n_samples,) or (n_samples, n_features)\n",
    "    :param n_neighbors: Number of nearest neighbors\n",
    "    :param noise_type: add noise of given type (uniform, normal)\n",
    "    :returns: non-negative estimate of mutual information\n",
    "\n",
    "    \"\"\"\n",
    "    n_samples = len(x)\n",
    "    x, y = [preprocess_data(t) for t in [x, y]]\n",
    "\n",
    "    if noise_type:\n",
    "        rng = default_rng()\n",
    "        x, y = [add_noise(t, rng, noise_type) for t in [x, y]]\n",
    "\n",
    "    xy = np.hstack((x, y))\n",
    "    k = np.full(n_samples, n_neighbors)\n",
    "    radius = get_radius_kneighbors(xy, n_neighbors)\n",
    "\n",
    "    if noise_type is None:\n",
    "        # Where radius is 0, determine multiplicity\n",
    "        mask = (radius == 0)\n",
    "        if mask.sum() > 0:\n",
    "            vals, ix, counts = np.unique(xy[mask], axis=0, return_inverse=True,\n",
    "                                         return_counts=True)\n",
    "            k[mask] = counts[ix] - 1\n",
    "\n",
    "    nx = num_points_within_radius(x, radius)\n",
    "    ny = num_points_within_radius(y, radius)\n",
    "\n",
    "    mi = max(0, digamma(n_samples) + np.mean(digamma(k))\n",
    "             - np.mean(digamma(nx + 1)) - np.mean(digamma(ny + 1)))\n",
    "    return mi\n",
    "\n",
    "\n",
    "def compute_cmi(x, y, z, n_neighbors=3, noise_type=None):\n",
    "    \"\"\"Compute conditional mutual information I(x;y|z)\n",
    "\n",
    "    :param x: real ndarray, shape (n_samples,) or (n_samples, n_features)\n",
    "    :param y: real ndarray, shape (n_samples,) or (n_samples, n_features)\n",
    "    :param z: real ndarray, shape (n_samples,) or (n_samples, n_features)\n",
    "    :param n_neighbors: Number of nearest neighbors\n",
    "    :param noise_type: add noise of given type (uniform, normal)\n",
    "    :returns: non-negative estimate of conditional mutual information\n",
    "\n",
    "    \"\"\"\n",
    "    n_samples = len(x)\n",
    "    x, y, z = [preprocess_data(t) for t in [x, y, z]]\n",
    "\n",
    "    if noise_type:\n",
    "        rng = default_rng()\n",
    "        x, y, z = [add_noise(t, rng, noise_type) for t in [x, y, z]]\n",
    "\n",
    "    xyz = np.hstack((x, y, z))\n",
    "    k = np.full(n_samples, n_neighbors)\n",
    "    radius = get_radius_kneighbors(xyz, n_neighbors)\n",
    "\n",
    "    if noise_type is None:\n",
    "        # Where radius is 0, determine multiplicity\n",
    "        mask = (radius == 0)\n",
    "        if mask.sum() > 0:\n",
    "            vals, ix, counts = np.unique(xyz[mask], axis=0,\n",
    "                                         return_inverse=True,\n",
    "                                         return_counts=True)\n",
    "            k[mask] = counts[ix] - 1\n",
    "\n",
    "    nxz = num_points_within_radius(np.hstack((x, z)), radius)\n",
    "    nyz = num_points_within_radius(np.hstack((y, z)), radius)\n",
    "    nz = num_points_within_radius(z, radius)\n",
    "\n",
    "    cmi = max(0, np.mean(digamma(k)) - np.mean(digamma(nxz + 1))\n",
    "              - np.mean(digamma(nyz + 1)) + np.mean(digamma(nz + 1)))\n",
    "    return cmi\n",
    "\n",
    "\n",
    "def compute_batch_mi(x, y, n_neighbors=3, noise_type=None):\n",
    "    N = len(x)\n",
    "    batch_size = 500\n",
    "    n_batches = N//batch_size\n",
    "    mi = np.zeros(n_batches)\n",
    "\n",
    "    for i in range(n_batches):\n",
    "        i0 = i * batch_size\n",
    "        i1 = i0 + batch_size\n",
    "        mi[i] = compute_mi(x[i0:i1], y[i0:i1], n_neighbors, noise_type)\n",
    "\n",
    "    return mi.mean()"
   ]
  },
  {
   "cell_type": "code",
   "execution_count": null,
   "id": "6e4bd487",
   "metadata": {},
   "outputs": [],
   "source": [
    "mi=[]\n",
    "for c in img_features.columns:\n",
    "    mi.append(compute_mi(img_features[c].values, df['3_1'].values))"
   ]
  },
  {
   "cell_type": "code",
   "execution_count": null,
   "id": "b0587cac",
   "metadata": {},
   "outputs": [],
   "source": [
    "fig = plt.figure(figsize=(14,8))\n",
    "plt.bar(img_features.columns, mi)\n",
    "plt.title('COLOR_SCHEME')\n",
    "plt.xticks(rotation=90)\n",
    "plt.show()"
   ]
  },
  {
   "cell_type": "code",
   "execution_count": null,
   "id": "170f9574",
   "metadata": {},
   "outputs": [],
   "source": [
    "mi=[]\n",
    "for c in img_features.columns:\n",
    "    mi.append(compute_mi(img_features[c].values, df['3_2'].values))\n",
    "    \n",
    "fig = plt.figure(figsize=(14,8))\n",
    "plt.bar(img_features.columns, mi)\n",
    "plt.title('INFORMATIOIN')\n",
    "plt.xticks(rotation=90)\n",
    "plt.show()"
   ]
  },
  {
   "cell_type": "code",
   "execution_count": null,
   "id": "4bd77018",
   "metadata": {},
   "outputs": [],
   "source": [
    "mi=[]\n",
    "for c in img_features.columns:\n",
    "    mi.append(compute_mi(img_features[c].values, df['3_3'].values))\n",
    "    \n",
    "fig = plt.figure(figsize=(14,8))\n",
    "plt.bar(img_features.columns, mi)\n",
    "plt.title('OTHER')\n",
    "plt.xticks(rotation=90)\n",
    "plt.show()"
   ]
  },
  {
   "cell_type": "code",
   "execution_count": null,
   "id": "c0f5c6e2",
   "metadata": {},
   "outputs": [],
   "source": [
    "mi=[]\n",
    "for c in img_features.columns:\n",
    "    mi.append(compute_mi(img_features[c].values, df['3_1'].values))\n",
    "dff = img_features[img_features.columns[np.array(mi)>0.25]]"
   ]
  },
  {
   "cell_type": "code",
   "execution_count": null,
   "id": "3d97c5a5",
   "metadata": {},
   "outputs": [],
   "source": [
    "from sklearn.linear_model import LinearRegression\n",
    "X = dff.values\n",
    "y = df['3_1'].values\n",
    "reg = LinearRegression().fit(X[:70,:], y[:70])\n",
    "print(f'Out of sample correlation: {np.corrcoef(reg.predict(X[70:,:]), y[70:])[0, 1]:.3f}')"
   ]
  },
  {
   "cell_type": "code",
   "execution_count": null,
   "id": "5a1cefa1",
   "metadata": {},
   "outputs": [],
   "source": [
    "reg.coef_"
   ]
  },
  {
   "cell_type": "code",
   "execution_count": null,
   "id": "1439ca49",
   "metadata": {},
   "outputs": [],
   "source": [
    "from sklearn.linear_model import LinearRegression\n",
    "from numpy.polynomial.polynomial import polyfit\n",
    "\n",
    "X = dff.values\n",
    "y = df['3_1'].values\n",
    "reg = LinearRegression().fit(X, y)\n",
    "\n",
    "prediction = reg.predict(X)\n",
    "b, m = polyfit(y, prediction, 1)\n",
    "\n",
    "\n",
    "plt.scatter(y, prediction)\n",
    "plt.plot(y, b + m * y, '-', c='b')\n",
    "plt.xlabel('Expert Image Scores')\n",
    "plt.ylabel('Image Score Predictions')\n",
    "plt.show()"
   ]
  },
  {
   "cell_type": "code",
   "execution_count": null,
   "id": "ea4856e4",
   "metadata": {},
   "outputs": [],
   "source": [
    "np.corrcoef(prediction, y)[0,1]"
   ]
  },
  {
   "cell_type": "markdown",
   "id": "fcf5905c",
   "metadata": {},
   "source": [
    "# Text features"
   ]
  },
  {
   "cell_type": "code",
   "execution_count": null,
   "id": "72642bd8",
   "metadata": {},
   "outputs": [],
   "source": [
    "fn = images[0]\n",
    "img = cv2.imread(os.path.join(img_dir, fn))\n",
    "img = cv2.cvtColor(img, cv2.COLOR_BGR2RGB)\n",
    "tfn = txt_labels[0]\n",
    "txt = pd.read_csv(os.path.join(ocr_dir, tfn))"
   ]
  },
  {
   "cell_type": "code",
   "execution_count": null,
   "id": "3bdb42fd",
   "metadata": {},
   "outputs": [],
   "source": [
    "from features.txtools import get_features"
   ]
  },
  {
   "cell_type": "code",
   "execution_count": null,
   "id": "aa2ff629",
   "metadata": {},
   "outputs": [],
   "source": [
    "if os.path.exists('../datasets/FinUI/100_txt_features.csv'):\n",
    "    txt_features = pd.read_csv('../datasets/FinUI/100_txt_features.csv')\n",
    "    txt_features = txt_features.set_index(np.arange(1, 101))\n",
    "    \n",
    "else:\n",
    "    txt_features = pd.DataFrame()\n",
    "\n",
    "    for i in tqdm(range(100)):\n",
    "        fn = images[i]\n",
    "        img = cv2.imread(os.path.join(img_dir, fn))\n",
    "        img = cv2.cvtColor(img, cv2.COLOR_BGR2RGB)\n",
    "\n",
    "        tfn = txt_labels[i]\n",
    "        txt = pd.read_csv(os.path.join(ocr_dir, tfn))\n",
    "\n",
    "        f = get_features(img, txt)\n",
    "        txt_features = pd.concat([txt_features, pd.DataFrame(f, index=[int(fn.split('.')[0])])])\n",
    "\n",
    "    txt_features.to_csv('../datasets/FinUI/100_txt_features.csv', index=False)"
   ]
  },
  {
   "cell_type": "code",
   "execution_count": null,
   "id": "df7747fc",
   "metadata": {},
   "outputs": [],
   "source": [
    "corr = txt_features.corr()\n",
    "fig = plt.figure(figsize=(16,14))\n",
    "\n",
    "ax = sns.heatmap(\n",
    "    corr, \n",
    "    xticklabels=corr.columns.values,\n",
    "    yticklabels=corr.columns.values,\n",
    "    cmap='coolwarm',\n",
    "    vmin=-1, vmax=1, annot=True, fmt='.2f'\n",
    ")\n",
    "plt.show()"
   ]
  },
  {
   "cell_type": "code",
   "execution_count": null,
   "id": "0792f089",
   "metadata": {},
   "outputs": [],
   "source": [
    "tf = txt_features.fillna(0)\n",
    "mi=[]\n",
    "for c in txt_features.columns:\n",
    "    mi.append(compute_mi(tf[c].values, df['2_1'].values))"
   ]
  },
  {
   "cell_type": "code",
   "execution_count": null,
   "id": "9955269e",
   "metadata": {},
   "outputs": [],
   "source": [
    "fig = plt.figure(figsize=(14,8))\n",
    "plt.bar(tf.columns, mi)\n",
    "plt.title('READABILITY')\n",
    "plt.xticks(rotation=90)\n",
    "plt.show()"
   ]
  },
  {
   "cell_type": "code",
   "execution_count": null,
   "id": "075a6b91",
   "metadata": {},
   "outputs": [],
   "source": [
    "mi=[]\n",
    "for c in txt_features.columns:\n",
    "    mi.append(compute_mi(tf[c].values, df['2_2'].values))\n",
    "    \n",
    "fig = plt.figure(figsize=(14,8))\n",
    "plt.bar(tf.columns, mi)\n",
    "plt.title('INFORMATION')\n",
    "plt.xticks(rotation=90)\n",
    "plt.show()"
   ]
  },
  {
   "cell_type": "code",
   "execution_count": null,
   "id": "f038f245",
   "metadata": {},
   "outputs": [],
   "source": [
    "mi=[]\n",
    "for c in txt_features.columns:\n",
    "    mi.append(compute_mi(tf[c].values, df['2_3'].values))\n",
    "    \n",
    "fig = plt.figure(figsize=(14,8))\n",
    "plt.bar(tf.columns, mi)\n",
    "plt.title('OTHER')\n",
    "plt.xticks(rotation=90)\n",
    "plt.show()"
   ]
  },
  {
   "cell_type": "code",
   "execution_count": null,
   "id": "1f4835b4",
   "metadata": {},
   "outputs": [],
   "source": [
    "mi=[]\n",
    "for c in txt_features.columns:\n",
    "    mi.append(compute_mi(tf[c].values, df['2_2'].values))\n",
    "dff = tf[tf.columns[np.array(mi)>0.05]]\n",
    "dff.columns"
   ]
  },
  {
   "cell_type": "code",
   "execution_count": null,
   "id": "26a81cb7",
   "metadata": {},
   "outputs": [],
   "source": [
    "from sklearn.linear_model import LinearRegression\n",
    "X = dff.values\n",
    "y = df['2_2'].values\n",
    "reg = LinearRegression().fit(X[:70,:], y[:70])\n",
    "print(f'Out of sample correlation: {np.corrcoef(reg.predict(X[70:,:]), y[70:])[0, 1]:.3f}')"
   ]
  },
  {
   "cell_type": "code",
   "execution_count": null,
   "id": "11a8a670",
   "metadata": {},
   "outputs": [],
   "source": [
    "from sklearn.linear_model import LinearRegression\n",
    "from numpy.polynomial.polynomial import polyfit\n",
    "\n",
    "X = dff.values\n",
    "y = df['2_2']\n",
    "reg = LinearRegression().fit(X, y)\n",
    "\n",
    "prediction = reg.predict(X)\n",
    "b, m = polyfit(y, prediction, 1)\n",
    "\n",
    "\n",
    "plt.scatter(y, prediction)\n",
    "plt.plot(y, b + m * y, '-', c='b')\n",
    "plt.xlabel('Expert Image Scores')\n",
    "plt.ylabel('Image Score Predictions')\n",
    "plt.show()"
   ]
  },
  {
   "cell_type": "code",
   "execution_count": null,
   "id": "de8dd16c",
   "metadata": {},
   "outputs": [],
   "source": [
    "np.corrcoef(prediction, y)[0,1]"
   ]
  },
  {
   "cell_type": "code",
   "execution_count": null,
   "id": "5319bc0a",
   "metadata": {},
   "outputs": [],
   "source": []
  },
  {
   "cell_type": "code",
   "execution_count": null,
   "id": "9dcded3b",
   "metadata": {},
   "outputs": [],
   "source": [
    "tf = txt_features.fillna(0)\n",
    "mi=[]\n",
    "for c in txt_features.columns:\n",
    "    mi.append(compute_mi(tf[c].values, df['2_1'].values))\n",
    "dff = tf[tf.columns[np.array(mi)>0.1]]\n",
    "dff.columns"
   ]
  },
  {
   "cell_type": "code",
   "execution_count": null,
   "id": "94920fba",
   "metadata": {},
   "outputs": [],
   "source": [
    "from sklearn.linear_model import LinearRegression\n",
    "X = dff.values\n",
    "y = df['2_1'].values\n",
    "reg = LinearRegression().fit(X[:70,:], y[:70])\n",
    "print(f'Out of sample correlation: {np.corrcoef(reg.predict(X[70:,:]), y[70:])[0, 1]:.3f}')"
   ]
  },
  {
   "cell_type": "markdown",
   "id": "05412770",
   "metadata": {},
   "source": [
    "# Aesthetic Features"
   ]
  },
  {
   "cell_type": "code",
   "execution_count": null,
   "id": "5e2385e5",
   "metadata": {},
   "outputs": [],
   "source": [
    "from features.aetools import get_features"
   ]
  },
  {
   "cell_type": "code",
   "execution_count": null,
   "id": "3d8b8d6b",
   "metadata": {},
   "outputs": [],
   "source": [
    "if os.path.exists('../datasets/FinUI/100_ae_features.csv'):\n",
    "    ae_features = pd.read_csv('../datasets/FinUI/100_ae_features.csv')\n",
    "    ae_features = ae_features.set_index(np.arange(1, 101))\n",
    "    \n",
    "else:\n",
    "    ae_features = pd.DataFrame()\n",
    "\n",
    "    for i in tqdm(range(100)):\n",
    "        fn = images[i]\n",
    "        img = cv2.imread(os.path.join(img_dir, fn))\n",
    "        img = cv2.cvtColor(img, cv2.COLOR_BGR2RGB)\n",
    "\n",
    "        tfn = txt_labels[i]\n",
    "        txt = pd.read_csv(os.path.join(ocr_dir, tfn))\n",
    "        \n",
    "        lfn = labels[i]\n",
    "        lab = pd.read_csv(os.path.join(csv_dir, lfn))\n",
    "        \n",
    "        boxes = pd.concat([lab, txt], ignore_index=True)[['xmin', 'xmax', 'ymin', 'ymax']]\n",
    "\n",
    "        f = get_features(img, boxes)\n",
    "        ae_features = pd.concat([ae_features, pd.DataFrame(f, index=[int(fn.split('.')[0])])])\n",
    "\n",
    "    ae_features.to_csv('../datasets/FinUI/100_ae_features.csv', index=False)"
   ]
  },
  {
   "cell_type": "code",
   "execution_count": null,
   "id": "3bbdcb1a",
   "metadata": {},
   "outputs": [],
   "source": [
    "corr = ae_features.corr()\n",
    "fig = plt.figure(figsize=(16,14))\n",
    "\n",
    "ax = sns.heatmap(\n",
    "    corr, \n",
    "    xticklabels=corr.columns.values,\n",
    "    yticklabels=corr.columns.values,\n",
    "    cmap='coolwarm',\n",
    "    vmin=-1, vmax=1, annot=True, fmt='.2f'\n",
    ")\n",
    "ax.collections[0].colorbar.set_label(\"Correlation Coefficient\", labelpad=10, fontsize=20)\n",
    "plt.xticks(fontsize=16)\n",
    "plt.yticks(fontsize=16)\n",
    "plt.xlabel('Aesthetic Features', labelpad=10, fontsize=20)\n",
    "plt.ylabel('Aesthetic Features', labelpad=10, fontsize=20)\n",
    "plt.show()"
   ]
  },
  {
   "cell_type": "code",
   "execution_count": null,
   "id": "99c86316",
   "metadata": {},
   "outputs": [],
   "source": [
    "aef = ae_features.fillna(0)\n",
    "mi=[]\n",
    "for c in ae_features.columns:\n",
    "    mi.append(compute_mi(aef[c].values, df['1_1'].values))"
   ]
  },
  {
   "cell_type": "code",
   "execution_count": null,
   "id": "68da4792",
   "metadata": {},
   "outputs": [],
   "source": [
    "fig = plt.figure(figsize=(14,8))\n",
    "plt.bar(aef.columns, mi)\n",
    "plt.title('DENSITY')\n",
    "plt.xticks(rotation=90)\n",
    "plt.show()"
   ]
  },
  {
   "cell_type": "code",
   "execution_count": null,
   "id": "c85889dd",
   "metadata": {},
   "outputs": [],
   "source": [
    "mi=[]\n",
    "for c in ae_features.columns:\n",
    "    mi.append(compute_mi(aef[c].values, df['1_2'].values))\n",
    "    \n",
    "fig = plt.figure(figsize=(14,8))\n",
    "plt.bar(aef.columns, mi)\n",
    "plt.title('COLOR_SCHEME')\n",
    "plt.xticks(rotation=90)\n",
    "plt.show()"
   ]
  },
  {
   "cell_type": "code",
   "execution_count": null,
   "id": "9f958bc2",
   "metadata": {},
   "outputs": [],
   "source": [
    "mi=[]\n",
    "for c in ae_features.columns:\n",
    "    mi.append(compute_mi(aef[c].values, df['1_3'].values))\n",
    "    \n",
    "fig = plt.figure(figsize=(14,8))\n",
    "plt.bar(aef.columns, mi)\n",
    "plt.title('ORDER')\n",
    "plt.xticks(rotation=90)\n",
    "plt.show()"
   ]
  },
  {
   "cell_type": "code",
   "execution_count": null,
   "id": "654c5233",
   "metadata": {},
   "outputs": [],
   "source": [
    "mi=[]\n",
    "for c in ae_features.columns:\n",
    "    mi.append(compute_mi(aef[c].values, df['1_4'].values))\n",
    "    \n",
    "fig = plt.figure(figsize=(14,8))\n",
    "plt.bar(aef.columns, mi)\n",
    "plt.xticks(rotation=90)\n",
    "plt.title('BALANCE')\n",
    "plt.show()"
   ]
  },
  {
   "cell_type": "code",
   "execution_count": null,
   "id": "d6d5068b",
   "metadata": {},
   "outputs": [],
   "source": [
    "mi=[]\n",
    "for c in ae_features.columns:\n",
    "    mi.append(compute_mi(aef[c].values, df['1_5'].values))\n",
    "    \n",
    "fig = plt.figure(figsize=(14,8))\n",
    "plt.bar(aef.columns, mi)\n",
    "plt.xticks(rotation=90)\n",
    "plt.title('OTHER')\n",
    "plt.show()"
   ]
  },
  {
   "cell_type": "code",
   "execution_count": null,
   "id": "185a11b1",
   "metadata": {},
   "outputs": [],
   "source": []
  },
  {
   "cell_type": "code",
   "execution_count": null,
   "id": "68a06cd9",
   "metadata": {},
   "outputs": [],
   "source": [
    "mi=[]\n",
    "for c in ae_features.columns:\n",
    "    mi.append(compute_mi(aef[c].values, df['1_5'].values))\n",
    "    \n",
    "dff = aef[aef.columns[np.array(mi)>0.05]]\n",
    "dff.columns"
   ]
  },
  {
   "cell_type": "code",
   "execution_count": null,
   "id": "d5cc7046",
   "metadata": {},
   "outputs": [],
   "source": [
    "from sklearn.linear_model import LinearRegression\n",
    "X = dff.values\n",
    "y = df['1_5'].values\n",
    "reg = LinearRegression().fit(X[:70,:], y[:70])\n",
    "print(f'Out of sample correlation: {np.corrcoef(reg.predict(X[70:,:]), y[70:])[0, 1]:.3f}')"
   ]
  },
  {
   "cell_type": "code",
   "execution_count": null,
   "id": "ac552ec6",
   "metadata": {},
   "outputs": [],
   "source": [
    "from sklearn.linear_model import LinearRegression\n",
    "from numpy.polynomial.polynomial import polyfit\n",
    "\n",
    "X = dff.values\n",
    "y = df['1_5']\n",
    "reg = LinearRegression().fit(X, y)\n",
    "\n",
    "prediction = reg.predict(X)\n",
    "b, m = polyfit(y, prediction, 1)\n",
    "\n",
    "\n",
    "plt.scatter(y, prediction)\n",
    "plt.plot(y, b + m * y, '-', c='b')\n",
    "plt.xlabel('Expert Layout Scores')\n",
    "plt.ylabel('AE Score Predictions')\n",
    "plt.show()"
   ]
  },
  {
   "cell_type": "code",
   "execution_count": null,
   "id": "57374663",
   "metadata": {},
   "outputs": [],
   "source": [
    "np.corrcoef(prediction, y)[0,1]"
   ]
  },
  {
   "cell_type": "code",
   "execution_count": null,
   "id": "4f0cb60f",
   "metadata": {},
   "outputs": [],
   "source": []
  },
  {
   "cell_type": "markdown",
   "id": "34be0583",
   "metadata": {},
   "source": [
    "# Image Features relationship with layout color scheme"
   ]
  },
  {
   "cell_type": "code",
   "execution_count": null,
   "id": "230db997",
   "metadata": {},
   "outputs": [],
   "source": [
    "mi=[]\n",
    "for c in img_features.columns:\n",
    "    mi.append(compute_mi(img_features[c].values, df['1_2'].values))\n",
    "    \n",
    "fig = plt.figure(figsize=(14,8))\n",
    "plt.bar(img_features.columns, mi)\n",
    "plt.title('COLOR_SCHEME')\n",
    "plt.xticks(rotation=90)\n",
    "plt.show()"
   ]
  },
  {
   "cell_type": "code",
   "execution_count": null,
   "id": "3ebb944a",
   "metadata": {},
   "outputs": [],
   "source": []
  },
  {
   "cell_type": "markdown",
   "id": "0b7058ba",
   "metadata": {},
   "source": [
    "# Block aesthetics"
   ]
  },
  {
   "cell_type": "code",
   "execution_count": null,
   "id": "640e2d49",
   "metadata": {},
   "outputs": [],
   "source": [
    "block_dir = '../datasets/FinUI/block_csv'\n",
    "block_labels = os.listdir(block_dir)"
   ]
  },
  {
   "cell_type": "code",
   "execution_count": null,
   "id": "2198248b",
   "metadata": {},
   "outputs": [],
   "source": [
    "if os.path.exists('../datasets/FinUI/100_aeb_features.csv'):\n",
    "    aeb_features = pd.read_csv('../datasets/FinUI/100_aeb_features.csv')\n",
    "    aeb_features = aeb_features.set_index(np.arange(1, 101))\n",
    "    \n",
    "else:\n",
    "    aeb_features = pd.DataFrame()\n",
    "\n",
    "    for i in tqdm(range(100)):\n",
    "        fn = images[i]\n",
    "        img = cv2.imread(os.path.join(img_dir, fn))\n",
    "        img = cv2.cvtColor(img, cv2.COLOR_BGR2RGB)\n",
    "       \n",
    "        lfn = block_labels[i]\n",
    "        lab = pd.read_csv(os.path.join(block_dir, lfn))\n",
    "        \n",
    "        boxes = lab[['xmin', 'xmax', 'ymin', 'ymax']]\n",
    "\n",
    "        f = get_features(img, boxes)\n",
    "        aeb_features = pd.concat([aeb_features, pd.DataFrame(f, index=[int(fn.split('.')[0])])])\n",
    "\n",
    "    aeb_features.to_csv('../datasets/FinUI/100_aeb_features.csv', index=False)"
   ]
  },
  {
   "cell_type": "code",
   "execution_count": null,
   "id": "bff6d57f",
   "metadata": {},
   "outputs": [],
   "source": [
    "aebf = aeb_features.fillna(0)"
   ]
  },
  {
   "cell_type": "code",
   "execution_count": null,
   "id": "5693c006",
   "metadata": {},
   "outputs": [],
   "source": [
    "mi=[]\n",
    "for c in aeb_features.columns:\n",
    "    mi.append(compute_mi(aebf[c].values, df['1_4'].values))\n",
    "    \n",
    "fig = plt.figure(figsize=(14,8))\n",
    "plt.bar(aebf.columns, mi)\n",
    "plt.xticks(rotation=90)\n",
    "plt.title('BALANCE')\n",
    "plt.show()"
   ]
  },
  {
   "cell_type": "code",
   "execution_count": null,
   "id": "ebc18600",
   "metadata": {},
   "outputs": [],
   "source": [
    "mi=[]\n",
    "for c in aeb_features.columns:\n",
    "    mi.append(compute_mi(aebf[c].values, df['1_4'].values))\n",
    "\n",
    "dff = aebf[aebf.columns[np.array(mi)>0.05]]\n",
    "dff.columns"
   ]
  },
  {
   "cell_type": "code",
   "execution_count": null,
   "id": "a35c11b3",
   "metadata": {},
   "outputs": [],
   "source": [
    "from sklearn.linear_model import LinearRegression\n",
    "X = dff.values\n",
    "y = df['1_4'].values\n",
    "reg = LinearRegression().fit(X[:70,:], y[:70])\n",
    "print(f'Out of sample correlation: {np.corrcoef(reg.predict(X[70:,:]), y[70:])[0, 1]:.3f}')"
   ]
  },
  {
   "cell_type": "code",
   "execution_count": null,
   "id": "a7326a0d",
   "metadata": {},
   "outputs": [],
   "source": [
    "from sklearn.linear_model import LinearRegression\n",
    "from numpy.polynomial.polynomial import polyfit\n",
    "\n",
    "X = dff.values\n",
    "y = df['1_4']\n",
    "reg = LinearRegression().fit(X, y)\n",
    "\n",
    "prediction = reg.predict(X)\n",
    "b, m = polyfit(y, prediction, 1)\n",
    "\n",
    "\n",
    "plt.scatter(y, prediction)\n",
    "plt.plot(y, b + m * y, '-', c='b')\n",
    "plt.xlabel('Expert Layout Scores')\n",
    "plt.ylabel('AE Score Predictions')\n",
    "plt.show()"
   ]
  },
  {
   "cell_type": "code",
   "execution_count": null,
   "id": "107eedcb",
   "metadata": {},
   "outputs": [],
   "source": [
    "np.corrcoef(prediction, y)[0,1]"
   ]
  },
  {
   "cell_type": "code",
   "execution_count": null,
   "id": "cd2b9993",
   "metadata": {},
   "outputs": [],
   "source": []
  }
 ],
 "metadata": {
  "kernelspec": {
   "display_name": "Python 3 (ipykernel)",
   "language": "python",
   "name": "python3"
  },
  "language_info": {
   "codemirror_mode": {
    "name": "ipython",
    "version": 3
   },
   "file_extension": ".py",
   "mimetype": "text/x-python",
   "name": "python",
   "nbconvert_exporter": "python",
   "pygments_lexer": "ipython3",
   "version": "3.8.12"
  }
 },
 "nbformat": 4,
 "nbformat_minor": 5
}
