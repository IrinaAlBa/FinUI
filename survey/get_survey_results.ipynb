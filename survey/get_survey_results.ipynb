{
 "cells": [
  {
   "cell_type": "code",
   "execution_count": null,
   "id": "c57fd06d",
   "metadata": {},
   "outputs": [],
   "source": [
    "import pandas as pd\n",
    "import numpy as np\n",
    "import matplotlib.pyplot as plt\n",
    "import warnings\n",
    "warnings.filterwarnings(\"ignore\")"
   ]
  },
  {
   "cell_type": "code",
   "execution_count": null,
   "id": "bbe04954",
   "metadata": {},
   "outputs": [],
   "source": [
    "score_mapping = {\n",
    "    'strongly appealing': 5, \n",
    "    'very important': 5,\n",
    "    'appealing': 4,\n",
    "    'important': 4,\n",
    "    'neutral': 3, \n",
    "    'unappealing': 2, \n",
    "    'not important': 2,\n",
    "    'strongly unappealing': 1,\n",
    "    'not at all important': 1\n",
    "}\n",
    "categories = {\n",
    "    'LAYOUT': ['Density', 'Colour Scheme', 'Order', 'Balance', 'Other'],\n",
    "    'TEXT': ['Readability', 'Information Content', 'Other'],\n",
    "    'IMAGE': ['Colour Scheme', 'Information Content', 'Other']\n",
    "}"
   ]
  },
  {
   "cell_type": "code",
   "execution_count": null,
   "id": "f8b390e4",
   "metadata": {},
   "outputs": [],
   "source": [
    "def get_weightings(df):\n",
    "    weightings = {}\n",
    "    columns = df.columns\n",
    "    weighting_columns = [c for c in columns if 'Weighting' in c]\n",
    "    \n",
    "    weightings = df[weighting_columns]\n",
    "    weightings.columns = ['LAYOUT', 'TEXT', 'IMAGE']\n",
    "        \n",
    "    return weightings\n",
    "\n",
    "def get_answers(df, n):\n",
    "    columns = df.columns\n",
    "    image_columns = [c for c in columns if c.startswith(str(n)+'.')]\n",
    "    \n",
    "    return [score_mapping[a] for a in df[image_columns].iloc[1].values]\n",
    "\n",
    "def get_answer_matrix(df):\n",
    "    answer_columns = ['1_1', '1_2', '1_3', '1_4', '1_5', '2_1', '2_2', '2_3', '3_1', '3_2', '3_3']\n",
    "    dff = pd.DataFrame()\n",
    "    for n in range(1, 101):\n",
    "        dff = pd.concat([dff, pd.DataFrame([get_answers(df, n)], columns=answer_columns, index=[n])])\n",
    "        \n",
    "    return dff"
   ]
  },
  {
   "cell_type": "code",
   "execution_count": null,
   "id": "80a86642",
   "metadata": {},
   "outputs": [],
   "source": [
    "def load_survey(n):\n",
    "    df = pd.read_excel(n)\n",
    "    df = df.loc[df.DistributionChannel!='preview']\n",
    "    df.drop(index=0, inplace=True)\n",
    "\n",
    "    background = df['0.Background'].values\n",
    "    for i in range(1, len(background)):\n",
    "        if not isinstance(background[i], str):\n",
    "            background[i] = 'Other'\n",
    "        # if (background[i] == 'Other') & isinstance(df['0.Background_3_TEXT'].iloc[i], str):\n",
    "        #    background[i] += ' - ' + df['0.Background_3_TEXT'].iloc[i]\n",
    "    df['Background'] = background\n",
    "\n",
    "    selfdesc = df['0.SelfDesc'].values\n",
    "    for i in range(1, len(selfdesc)):\n",
    "        if not isinstance(selfdesc[i], str):\n",
    "            selfdesc[i] = 'Other'\n",
    "        # if (selfdesc[i] == 'Other') & isinstance(df['0.SelfDesc_3_TEXT'].iloc[i], str):\n",
    "        #    selfdesc[i] += ' - ' + df['0.SelfDesc_3_TEXT'].iloc[i]\n",
    "    df['SelfDesc'] = selfdesc\n",
    "\n",
    "    columns = df.columns\n",
    "    df = df[[columns[7]] + list(columns[-2:]) + list(columns[16:-3])]\n",
    "    columns = df.columns\n",
    "\n",
    "    for c in columns[3:]:\n",
    "        df[c] = df[c].str.lower().map(score_mapping)\n",
    "        \n",
    "    return df"
   ]
  },
  {
   "cell_type": "code",
   "execution_count": null,
   "id": "c8f7f538",
   "metadata": {},
   "outputs": [],
   "source": [
    "df_self = load_survey('UI Eval Self_May 6, 2023_07.39.xlsx')\n",
    "df = load_survey('Evaluation of User Interface Layout and Components_May 5, 2023_12.02.xlsx')\n",
    "df = pd.concat([df_self, df], ignore_index=True)"
   ]
  },
  {
   "cell_type": "code",
   "execution_count": null,
   "id": "31cab539",
   "metadata": {},
   "outputs": [],
   "source": [
    "def get_weightings(df):\n",
    "    weightings = {}\n",
    "    columns = df.columns\n",
    "    weighting_columns = [c for c in columns if 'Weighting' in c]\n",
    "    \n",
    "    weightings = df[weighting_columns]\n",
    "    weightings.columns = list(categories.keys())\n",
    "        \n",
    "    return weightings"
   ]
  },
  {
   "cell_type": "code",
   "execution_count": null,
   "id": "b738bc31",
   "metadata": {},
   "outputs": [],
   "source": [
    "b = df.groupby('Background').Background.count()/len(df)\n",
    "plt.bar(b.index, b.values, color=['r', 'b', 'g'])\n",
    "plt.title('Expert Background')\n",
    "plt.ylabel('Weight')\n",
    "plt.show()"
   ]
  },
  {
   "cell_type": "code",
   "execution_count": null,
   "id": "6aacaa94",
   "metadata": {},
   "outputs": [],
   "source": [
    "b = df.groupby('SelfDesc').Background.count()/len(df)\n",
    "plt.bar(b.index, b.values, color=['r', 'g', 'b'])\n",
    "plt.title('Expert Self Description')\n",
    "plt.ylabel('Weight')\n",
    "plt.show()"
   ]
  },
  {
   "cell_type": "code",
   "execution_count": null,
   "id": "38253477",
   "metadata": {},
   "outputs": [],
   "source": [
    "fig, ax = plt.subplots()\n",
    "ax.axis('equal')\n",
    "width = 0.3\n",
    "\n",
    "cm = plt.get_cmap(\"tab10\")\n",
    "cout = cm(np.array([1, 2, 3]))\n",
    "\n",
    "b = df.groupby('Background').Background.count()/len(df)\n",
    "pie, _ = ax.pie(b.values, radius=1, labels=b.index, colors=cout)\n",
    "plt.setp( pie, width=width, edgecolor='white')\n",
    "\n",
    "cm = plt.get_cmap(\"Pastel1\")\n",
    "cin = cm(np.array([1, 2, 3]))\n",
    "b = df.groupby('SelfDesc').Background.count()/len(df)\n",
    "pie2, _ = ax.pie(b.values, radius=0.5, labels=b.index,\n",
    "                                      labeldistance=0.65, colors=cin)\n",
    "plt.setp( pie2, width=width, edgecolor='white')\n",
    "plt.show()"
   ]
  },
  {
   "cell_type": "code",
   "execution_count": null,
   "id": "385e5b71",
   "metadata": {},
   "outputs": [],
   "source": [
    "m = get_weightings(df).mean()\n",
    "lab = [f'{c}: {m[c]:.2f}' for c in get_weightings(df).columns]\n",
    "plt.hist(get_weightings(df), label=lab)\n",
    "plt.legend()\n",
    "plt.xlabel('Score')\n",
    "plt.ylabel('Count')\n",
    "plt.show()"
   ]
  },
  {
   "cell_type": "code",
   "execution_count": null,
   "id": "f2cecb98",
   "metadata": {},
   "outputs": [],
   "source": [
    "def get_answers(df, n):\n",
    "    columns = df.columns\n",
    "    image_columns = [c for c in columns if c.startswith(str(n)+'.')]\n",
    "    \n",
    "    return [score_mapping[a] for a in df[image_columns].iloc[1].values]"
   ]
  },
  {
   "cell_type": "code",
   "execution_count": null,
   "id": "4353398a",
   "metadata": {},
   "outputs": [],
   "source": [
    "columns = df.columns\n",
    "a, b, c = [], [], []\n",
    "for n in range(1, 101):\n",
    "    image_columns = [c for c in columns if c.startswith(str(n)+'.')]\n",
    "    a += list(df[image_columns[:5]].dropna().values.flatten())\n",
    "    b += list(df[image_columns[5:8]].dropna().values.flatten())\n",
    "    c += list(df[image_columns[8:]].dropna().values.flatten())\n",
    "print(f'layout mean = {np.array(a).mean():.2f}, std = {np.array(a).std():.2f}')\n",
    "print(f'text mean = {np.array(b).mean():.2f}, std = {np.array(b).std():.2f}')\n",
    "print(f'image mean = {np.array(c).mean():.2f}, std = {np.array(c).std():.2f}')"
   ]
  },
  {
   "cell_type": "code",
   "execution_count": null,
   "id": "bae9b931",
   "metadata": {},
   "outputs": [],
   "source": [
    "a, b, c = [], [], []\n",
    "for n in range(1, 101):\n",
    "    image_columns = [c for c in columns if c.startswith(str(n)+'.')]\n",
    "    a.append(df[image_columns[:5]].dropna().values.flatten().mean())\n",
    "    b.append(df[image_columns[5:8]].dropna().values.flatten().mean())\n",
    "    c.append(df[image_columns[8:]].dropna().values.flatten().mean())"
   ]
  },
  {
   "cell_type": "code",
   "execution_count": null,
   "id": "cdd6bbef",
   "metadata": {},
   "outputs": [],
   "source": [
    "plt.hist((np.array(a) + np.array(b) + np.array(c))/3, 20, density=True)\n",
    "plt.ylabel('Density')\n",
    "plt.xlabel('UI Score')\n",
    "plt.title('Expert Scoring Distribution')\n",
    "plt.show()"
   ]
  },
  {
   "cell_type": "code",
   "execution_count": null,
   "id": "540e2e52",
   "metadata": {},
   "outputs": [],
   "source": [
    "from numpy.polynomial.polynomial import polyfit\n",
    "bb, m = polyfit(np.array(a), np.array(c), 1)\n",
    "\n",
    "plt.scatter(np.array(a), np.array(c), c='b')\n",
    "plt.plot(np.arange(1.5, 4.2, 0.1), bb + m * np.arange(1.5, 4.2, 0.1), '-', c='r')\n",
    "plt.grid()\n",
    "plt.xlabel('Layout Score')\n",
    "plt.ylabel('Image Score')\n",
    "plt.show()"
   ]
  },
  {
   "cell_type": "code",
   "execution_count": null,
   "id": "ca29a0ac",
   "metadata": {},
   "outputs": [],
   "source": [
    "social = pd.read_csv('100/100_with_social.csv')"
   ]
  },
  {
   "cell_type": "code",
   "execution_count": null,
   "id": "58c0de90",
   "metadata": {},
   "outputs": [],
   "source": [
    "image_id = [int(fn.split('.')[0]) for fn in social.fn]"
   ]
  },
  {
   "cell_type": "code",
   "execution_count": null,
   "id": "16800264",
   "metadata": {},
   "outputs": [],
   "source": [
    "ex_score = [(a[i-1]+b[i-1]+c[i-1])/3 for i in image_id]"
   ]
  },
  {
   "cell_type": "code",
   "execution_count": null,
   "id": "e5cef3e8",
   "metadata": {},
   "outputs": [],
   "source": [
    "social['expert'] = ex_score"
   ]
  },
  {
   "cell_type": "code",
   "execution_count": null,
   "id": "5cfa12a1",
   "metadata": {},
   "outputs": [],
   "source": [
    "cc = np.corrcoef(social.likes, social.expert)\n",
    "plt.scatter(social.likes, social.expert, c='b')\n",
    "plt.xlabel('Numer of Likes')\n",
    "plt.ylabel('Expect Aesthetic Score')\n",
    "plt.title(f'Correlation: {cc[0,1]:.3f}')\n",
    "plt.show()"
   ]
  },
  {
   "cell_type": "code",
   "execution_count": null,
   "id": "2952e942",
   "metadata": {},
   "outputs": [],
   "source": [
    "cols = [i.split('.')[1] for i in image_columns]\n",
    "\n",
    "out = []\n",
    "for n in range(1, 101):\n",
    "    image_columns = [c for c in columns if c.startswith(str(n)+'.')]\n",
    "    out.append(df[image_columns].dropna().mean().to_list())\n",
    "    \n",
    "pd.DataFrame(columns=cols, data=out, index=np.arange(1, 101)).to_csv('100/100_avg_scores.csv')"
   ]
  }
 ],
 "metadata": {
  "kernelspec": {
   "display_name": "Python 3 (ipykernel)",
   "language": "python",
   "name": "python3"
  },
  "language_info": {
   "codemirror_mode": {
    "name": "ipython",
    "version": 3
   },
   "file_extension": ".py",
   "mimetype": "text/x-python",
   "name": "python",
   "nbconvert_exporter": "python",
   "pygments_lexer": "ipython3",
   "version": "3.8.12"
  }
 },
 "nbformat": 4,
 "nbformat_minor": 5
}
