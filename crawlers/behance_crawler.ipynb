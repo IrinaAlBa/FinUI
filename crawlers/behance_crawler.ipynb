{
 "cells": [
  {
   "cell_type": "code",
   "execution_count": null,
   "id": "bce87a50",
   "metadata": {},
   "outputs": [],
   "source": [
    "import requests\n",
    "from bs4 import BeautifulSoup\n",
    "from datetime import datetime\n",
    "from dateutil import parser\n",
    "import time\n",
    "import json\n",
    "import os\n",
    "import numpy as np\n",
    "import pandas as pd\n",
    "from tqdm import tqdm\n",
    "from IPython.display import clear_output\n",
    "from dotenv import dotenv_values\n",
    "import selenium.webdriver as webdriver\n",
    "from selenium.webdriver import ChromeOptions\n",
    "from selenium.webdriver.common.by import By\n",
    "from selenium.webdriver.common.keys import Keys\n",
    "from selenium.webdriver.support.ui import WebDriverWait\n",
    "from selenium.webdriver.support import expected_conditions as EC"
   ]
  },
  {
   "cell_type": "code",
   "execution_count": null,
   "id": "e4077d3a",
   "metadata": {},
   "outputs": [],
   "source": [
    "main_url = 'https://www.behance.net/'\n",
    "search_url = main_url + 'search/projects?search=financial+dashboard'\n",
    "username = dotenv_values('.env')['BEHANCE_USERNAME']\n",
    "password = dotenv_values('.env')['BEHANCE_PASSWORD']\n",
    "opts = ChromeOptions()\n",
    "opts.add_argument(\"--window-size=1800,1000\")\n",
    "\n",
    "browser = webdriver.Chrome(options=opts)\n",
    "browser.get(search_url)\n",
    "WebDriverWait(browser, 20).until(EC.element_to_be_clickable((By.CLASS_NAME, 'e2e-PrimaryNav-Signin'))).click()\n",
    "WebDriverWait(browser, 10).until(EC.element_to_be_clickable((By.ID, 'EmailPage-EmailField'))).send_keys(username)\n",
    "browser.find_element(By.XPATH, '//*[@data-id=\"EmailPage-ContinueButton\"]').click()\n",
    "WebDriverWait(browser, 10).until(EC.element_to_be_clickable((By.XPATH, '//*[@data-id=\"Page-PrimaryButton\"]'))).click()"
   ]
  },
  {
   "cell_type": "code",
   "execution_count": null,
   "id": "386bb083",
   "metadata": {},
   "outputs": [],
   "source": [
    "# enter OTC from email\n",
    "WebDriverWait(browser, 50).until(EC.element_to_be_clickable((By.ID, 'PasswordPage-PasswordField'))).send_keys(password)\n",
    "browser.find_element(By.XPATH, '//*[@data-id=\"PasswordPage-ContinueButton\"]').click()\n",
    "# click cookies"
   ]
  },
  {
   "cell_type": "code",
   "execution_count": null,
   "id": "aea3fd72",
   "metadata": {},
   "outputs": [],
   "source": [
    "browser.find_element(By.CLASS_NAME, 'BasicDropdown-dropdownButton-i1Z').click()\n",
    "sort_choice = browser.find_elements(By.CLASS_NAME, 'SortMenu-typeItem-WWW')\n",
    "text = [s.text for s in sort_choice]\n",
    "sort_choice[text.index('Most Recent')].click()"
   ]
  },
  {
   "cell_type": "code",
   "execution_count": null,
   "id": "bb10db5a",
   "metadata": {},
   "outputs": [],
   "source": [
    "browser.get(search_url)"
   ]
  },
  {
   "cell_type": "code",
   "execution_count": null,
   "id": "fb4133f4",
   "metadata": {},
   "outputs": [],
   "source": [
    "pages = browser.find_elements(By.CLASS_NAME, 'Projects-firstSectionCover-pNF')\n",
    "hrefs = [page.find_element(By.CLASS_NAME, 'js-project-link').get_attribute('href').split('?')[0] for page in pages]"
   ]
  },
  {
   "cell_type": "code",
   "execution_count": null,
   "id": "f876a660",
   "metadata": {},
   "outputs": [],
   "source": [
    "pages_ = browser.find_elements(By.CLASS_NAME, 'ContentGrid-gridItem-VXS')\n",
    "hrefs_ = [page.find_element(By.CLASS_NAME, 'js-project-link').get_attribute('href').split('?')[0] for page in pages_]"
   ]
  },
  {
   "cell_type": "code",
   "execution_count": null,
   "id": "677d50dc",
   "metadata": {},
   "outputs": [],
   "source": [
    "pbar = tqdm(total = 10000)\n",
    "pages_ = browser.find_elements(By.CLASS_NAME, 'ContentGrid-gridItem-VXS')\n",
    "hrefs_ = [page.find_element(By.CLASS_NAME, 'js-project-link').get_attribute('href').split('?')[0] for page in pages_]\n",
    "end = browser.find_elements(By.CLASS_NAME, 'Search-resultsEnd-UqF')\n",
    "pbar.update(len(hrefs_))\n",
    "\n",
    "while len(end) == 0:\n",
    "    browser.execute_script('window.scrollTo(0,document.body.scrollHeight)')\n",
    "    clear_output(wait=True)\n",
    "    pages_ = browser.find_elements(By.CLASS_NAME, 'ContentGrid-gridItem-VXS')\n",
    "    for i in range(len(hrefs_), len(pages_)):\n",
    "        h = pages_[i].find_element(By.CLASS_NAME, 'js-project-link').get_attribute('href').split('?')[0]\n",
    "        if not h in hrefs_:\n",
    "            hrefs_.append(h)\n",
    "            pbar.update(1)\n",
    "    end = browser.find_elements(By.CLASS_NAME, 'Search-resultsEnd-UqF')\n",
    "pbar.close()"
   ]
  },
  {
   "cell_type": "code",
   "execution_count": null,
   "id": "98a52b27",
   "metadata": {},
   "outputs": [],
   "source": [
    "def str2int(x):\n",
    "    x = x.lower()\n",
    "    if x[-1].isnumeric():\n",
    "        return int(x)\n",
    "    elif x[-1] == 'k':\n",
    "        return int(1e3*float(x[:-1]))\n",
    "    elif x[-1] == 'm':\n",
    "        return int(1e6*float(x[:-1]))\n",
    "    elif x[-1] == 'b':\n",
    "        return int(1e9*float(x[:-1]))\n",
    "    raise ValueError('unknown format')\n",
    "    \n",
    "def get_stats(hr):\n",
    "    project_stats = []\n",
    "    for h in tqdm(hr):\n",
    "        try:\n",
    "            browser.get(h)\n",
    "            time.sleep(1)\n",
    "            stats = {\n",
    "                'href': h,\n",
    "                'projectTitle': browser.find_element(By.CLASS_NAME, 'Project-title-Q6Q').text,\n",
    "                'ownerName': browser.find_element(By.CLASS_NAME, 'Project-ownerItems-qza').text.split('\\n')[0],\n",
    "                'imageSource': [\n",
    "                    BeautifulSoup(\n",
    "                        x.get_attribute('outerHTML'), 'lxml'\n",
    "                    ).find('img')['src'] for x in browser.find_elements(\n",
    "                        By.CLASS_NAME, 'ImageElement-root-kir'\n",
    "                    )\n",
    "                ]\n",
    "            }\n",
    "            info = BeautifulSoup(\n",
    "                browser.find_element(\n",
    "                    By.CLASS_NAME, 'e2e-Project-infoSection'\n",
    "                ).get_attribute('outerHTML'), 'lxml'\n",
    "            )\n",
    "            stats.update(\n",
    "                dict(\n",
    "                    zip(\n",
    "                        ['likes', 'views', 'comments'], \n",
    "                        [str2int(x.text) for x in info.find_all('span')]\n",
    "                    )\n",
    "                )\n",
    "            )\n",
    "            stats['published'] = info.find('time').text\n",
    "        except:\n",
    "            stats = {}\n",
    "            print(f'fail {h}')\n",
    "\n",
    "        project_stats.append(stats)\n",
    "    return project_stats"
   ]
  },
  {
   "cell_type": "code",
   "execution_count": null,
   "id": "cab903aa",
   "metadata": {},
   "outputs": [],
   "source": [
    "def load_images(ps):\n",
    "    for stats in tqdm(ps):\n",
    "        for source in stats['imageSource']:\n",
    "            response = requests.get(source)\n",
    "            if response.status_code == 200:\n",
    "                id = stats['href'].split('/')[-2]\n",
    "                fn = source.split('/')[-1]\n",
    "                ext = fn[-3:]\n",
    "                fn = fn[:-4].replace('.', '_')\n",
    "                fn = '_'.join([id, fn])\n",
    "                fn = '.'.join([fn, ext])\n",
    "                file_name = 'behance/' + fn\n",
    "                with open(file_name, \"wb\") as f:\n",
    "                    f.write(response.content)\n",
    "            else:\n",
    "                print(f'{stats[\"href\"]}: {response.status_code}')\n",
    "            clear_output(wait=True)\n",
    "            time.sleep(1)"
   ]
  },
  {
   "cell_type": "code",
   "execution_count": null,
   "id": "038faf7f",
   "metadata": {},
   "outputs": [],
   "source": [
    "hrefs = hrefs[:-2] + hrefs_"
   ]
  },
  {
   "cell_type": "code",
   "execution_count": null,
   "id": "9c1de629",
   "metadata": {},
   "outputs": [],
   "source": [
    "behance_stats = get_stats(hrefs)"
   ]
  },
  {
   "cell_type": "code",
   "execution_count": null,
   "id": "c64b8d96",
   "metadata": {},
   "outputs": [],
   "source": [
    "jo = json.dumps(behance_stats)\n",
    "with open('bs.json', 'w') as outfile:\n",
    "    outfile.write(jo)"
   ]
  },
  {
   "cell_type": "code",
   "execution_count": null,
   "id": "ba7492a2",
   "metadata": {},
   "outputs": [],
   "source": [
    "with open('bs.json', 'r') as f:\n",
    "    bs = json.load(f)"
   ]
  },
  {
   "cell_type": "code",
   "execution_count": null,
   "id": "630f58fd",
   "metadata": {},
   "outputs": [],
   "source": [
    "image_names = []\n",
    "sources = []\n",
    "for stats in tqdm(bs):\n",
    "    for source in stats['imageSource']:\n",
    "        id = stats['href'].split('/')[-2]\n",
    "        fn = source.split('/')[-1]\n",
    "        ext = fn[-3:]\n",
    "        fn = fn[:-4].replace('.', '_')\n",
    "        fn = '_'.join([id, fn])\n",
    "        fn = '.'.join([fn, ext])\n",
    "        image_names.append('behance/' + fn)\n",
    "        sources.append(source)"
   ]
  },
  {
   "cell_type": "code",
   "execution_count": null,
   "id": "15cd2300",
   "metadata": {},
   "outputs": [],
   "source": [
    "bad = []\n",
    "for i in tqdm(range(i0, len(sources))):\n",
    "    time.sleep(0.5)\n",
    "    response = requests.get(sources[i])\n",
    "    if response.status_code == 200:\n",
    "        with open(image_names[i], \"wb\") as f:\n",
    "            f.write(response.content)\n",
    "    elif response.status_code == 400:\n",
    "        print('error')\n",
    "        break\n",
    "    else:\n",
    "        print(i)"
   ]
  }
 ],
 "metadata": {
  "kernelspec": {
   "display_name": "Python 3 (ipykernel)",
   "language": "python",
   "name": "python3"
  },
  "language_info": {
   "codemirror_mode": {
    "name": "ipython",
    "version": 3
   },
   "file_extension": ".py",
   "mimetype": "text/x-python",
   "name": "python",
   "nbconvert_exporter": "python",
   "pygments_lexer": "ipython3",
   "version": "3.8.12"
  }
 },
 "nbformat": 4,
 "nbformat_minor": 5
}
