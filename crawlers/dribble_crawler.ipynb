{
 "cells": [
  {
   "cell_type": "code",
   "execution_count": null,
   "id": "437a6743",
   "metadata": {},
   "outputs": [],
   "source": [
    "import requests\n",
    "from bs4 import BeautifulSoup\n",
    "from datetime import datetime\n",
    "from dateutil import parser\n",
    "import time\n",
    "import json\n",
    "import pandas as pd\n",
    "from IPython.display import clear_output\n",
    "from dotenv import dotenv_values\n",
    "import selenium.webdriver as webdriver\n",
    "from selenium.webdriver.common.by import By\n",
    "from selenium.webdriver.common.keys import Keys\n",
    "from selenium.webdriver.support.ui import WebDriverWait\n",
    "from selenium.webdriver.support import expected_conditions as EC"
   ]
  },
  {
   "cell_type": "code",
   "execution_count": null,
   "id": "15cea344",
   "metadata": {},
   "outputs": [],
   "source": [
    "browser = webdriver.Chrome()\n",
    "main_url = 'https://dribbble.com/'\n",
    "search_url = main_url + '/search/search=financial+dashboard'\n",
    "username = dotenv_values('.env')['USERNAME']\n",
    "password = dotenv_values('.env')['PASSWORD']\n",
    "\n",
    "browser.get(search_url)\n",
    "WebDriverWait(browser, 20).until(EC.element_to_be_clickable((By.CLASS_NAME, 'js-site-nav-sign-in'))).click()\n",
    "time.sleep(1)"
   ]
  },
  {
   "cell_type": "code",
   "execution_count": null,
   "id": "8be7ac5c",
   "metadata": {},
   "outputs": [],
   "source": [
    "browser.find_element(By.ID, 'login').send_keys(username)\n",
    "browser.find_element(By.ID, 'password').send_keys(password)\n",
    "browser.find_element(By.XPATH, '//*[@id=\"main-container\"]/section[2]/main/div[1]/div[2]/form/input[4]').click()"
   ]
  },
  {
   "cell_type": "code",
   "execution_count": null,
   "id": "76c615fd",
   "metadata": {},
   "outputs": [],
   "source": [
    "s = WebDriverWait(browser, 10).until(EC.presence_of_element_located((By.CLASS_NAME, 'loading-more'))).get_attribute(\"outerHTML\")\n",
    "n = 0\n",
    "while 'Loading more…' in s:\n",
    "    n += 1\n",
    "    try:\n",
    "        s = browser.find_element(By.CLASS_NAME, 'loading-more').get_attribute(\"outerHTML\")\n",
    "        WebDriverWait(browser, 10).until(EC.element_to_be_clickable((By.XPATH, '//*[@id=\"main\"]/div[2]/a'))).click()\n",
    "    except: \n",
    "        time.sleep(1)\n",
    "    browser.execute_script('window.scrollTo(0,document.body.scrollHeight)')\n",
    "    time.sleep(1)\n",
    "    clear_output(wait=True)\n",
    "    print(n)"
   ]
  },
  {
   "cell_type": "code",
   "execution_count": null,
   "id": "8eeafa53",
   "metadata": {},
   "outputs": [],
   "source": [
    "entries = BeautifulSoup(\n",
    "    browser.find_element(By.ID, 'wrap-inner').get_attribute(\"outerHTML\"), \"lxml\"\n",
    ").find_all('li', class_='shot-thumbnail')\n",
    "browser.close()\n",
    "print(f'found {len(entries)} entries')"
   ]
  },
  {
   "cell_type": "code",
   "execution_count": null,
   "id": "2a1a3a8b",
   "metadata": {},
   "outputs": [],
   "source": [
    "id, user, href, img_url = [], [], [], []\n",
    "\n",
    "for entry in entries:\n",
    "    keywords = [x.lower() for x in entry.find('img')['alt'].split()]\n",
    "    if not 'mobile' in keywords:\n",
    "        href_short = entry.find('a', class_='shot-thumbnail-link')['href']\n",
    "        id_proxy = href_short.split('/')[-1].split('-')[0]\n",
    "        if id_proxy.isnumeric():\n",
    "            id.append(id_proxy)\n",
    "            img_url.append(entry.find('img')['src'].split('?')[0])   \n",
    "            href.append(main_url + href_short)\n",
    "            user.append(entry.find('div', class_ = 'user-information').find('img')['alt'])\n",
    "print(f'found {len(id)} dashboards')"
   ]
  },
  {
   "cell_type": "code",
   "execution_count": null,
   "id": "fad354d3",
   "metadata": {},
   "outputs": [],
   "source": [
    "title, posted, views, saves, likes, comments = [], [], [], [], [], []\n",
    "\n",
    "browser = webdriver.Chrome()\n",
    "n = 0\n",
    "\n",
    "for url in href:\n",
    "    n += 1\n",
    "    browser.get(url)\n",
    "    WebDriverWait(browser, 20).until(EC.element_to_be_clickable((By.CLASS_NAME, 'js-site-nav-sign-in')))\n",
    "\n",
    "    title.append(browser.find_element(By.TAG_NAME, 'h1').text)\n",
    "\n",
    "    buttons = browser.find_elements(By.TAG_NAME, 'button')\n",
    "    for b in buttons:\n",
    "        if b.get_attribute('data-original-title') == 'Shot details':\n",
    "            b.click()\n",
    "            break\n",
    "    modal = WebDriverWait(browser, 10).until(EC.presence_of_element_located((By.CLASS_NAME, 'modal-content')))\n",
    "    data = []\n",
    "    while len(data) == 0:\n",
    "        try:\n",
    "            data = modal.text.split('\\n')[1::2][:5]\n",
    "        except:\n",
    "            time.sleep(1)\n",
    "    posted.append(str(parser.parse(data[0], fuzzy=True).date())\n",
    "\n",
    "    data = [int(''.join(filter(str.isdigit, d))) for d in data[1:]]\n",
    "    views.append(data[0])\n",
    "    saves.append(data[1])\n",
    "    likes.append(data[2])\n",
    "    comments.append(data[3])\n",
    "    \n",
    "    clear_output(wait=True)\n",
    "    print(n)\n",
    "    \n",
    "browser.close()"
   ]
  },
  {
   "cell_type": "code",
   "execution_count": null,
   "id": "ce160691",
   "metadata": {},
   "outputs": [],
   "source": [
    "df = pd.DataFrame({\n",
    "    'id': id, 'user': user, 'title': title,\n",
    "    'posted': posted, 'views': views, 'saves': saves, 'likes': likes, 'comments': comments,\n",
    "    'url': img_url\n",
    "})\n",
    "df.to_csv('dribbble/db.csv')"
   ]
  },
  {
   "cell_type": "code",
   "execution_count": null,
   "id": "a500bba3",
   "metadata": {},
   "outputs": [],
   "source": [
    "for idx, row in df.iterrows():\n",
    "    response = requests.get(row['url'])\n",
    "    if response.status_code == 200:\n",
    "        file_name = 'dribbble/' + '.'.join([row['id'], row['url'].split('.')[-1]])\n",
    "        with open(file_name, \"wb\") as f:\n",
    "            f.write(response.content)\n",
    "    else:\n",
    "        print(response.status_code)\n",
    "        break\n",
    "    clear_output(wait=True)\n",
    "    print(idx+1)"
   ]
  },
  {
   "cell_type": "code",
   "execution_count": null,
   "id": "b28209ec",
   "metadata": {},
   "outputs": [],
   "source": [
    "df = pd.read_csv('dribbble/db.csv')"
   ]
  },
  {
   "cell_type": "code",
   "execution_count": null,
   "id": "174cbd80",
   "metadata": {},
   "outputs": [],
   "source": [
    "df.head()"
   ]
  },
  {
   "cell_type": "code",
   "execution_count": null,
   "id": "009c7914",
   "metadata": {},
   "outputs": [],
   "source": [
    "import matplotlib.pyplot as plt"
   ]
  },
  {
   "cell_type": "code",
   "execution_count": null,
   "id": "52ab6c3f",
   "metadata": {},
   "outputs": [],
   "source": [
    "import os"
   ]
  },
  {
   "cell_type": "code",
   "execution_count": null,
   "id": "845b0f80",
   "metadata": {},
   "outputs": [],
   "source": [
    "dir_path = r'dribbble'"
   ]
  },
  {
   "cell_type": "code",
   "execution_count": null,
   "id": "8db33931",
   "metadata": {},
   "outputs": [],
   "source": [
    "files = [x for x in os.listdir(dir_path) if '.' in x]\n",
    "ids = [x.split('.')[0] for x in files]\n",
    "ids = [int(x) for x in ids if x.isnumeric()]"
   ]
  },
  {
   "cell_type": "code",
   "execution_count": null,
   "id": "0de5a20a",
   "metadata": {},
   "outputs": [],
   "source": [
    "df = df.loc[df['id'].isin(ids)].reset_index(drop=True)"
   ]
  },
  {
   "cell_type": "code",
   "execution_count": null,
   "id": "cf6a14e5",
   "metadata": {},
   "outputs": [],
   "source": [
    "plt.plot(df.views, df.likes, '.b')\n",
    "plt.xlabel('Views')\n",
    "plt.ylabel('Likes')\n",
    "plt.show()"
   ]
  },
  {
   "cell_type": "code",
   "execution_count": null,
   "id": "b321d7f6",
   "metadata": {},
   "outputs": [],
   "source": [
    "plt.hist(df.likes/df.views, 100, density=True, color='b')\n",
    "plt.xlabel('Conversion')\n",
    "plt.ylabel('PDF')\n",
    "plt.show()"
   ]
  },
  {
   "cell_type": "code",
   "execution_count": null,
   "id": "ea2c6d6d",
   "metadata": {},
   "outputs": [],
   "source": [
    "z = df.groupby(by='user').id.count().sort_values(ascending=False)[:25]\n",
    "zz = df.groupby(by='user')[['likes', 'views']].sum()\n",
    "zz = zz.join(pd.DataFrame({'user': z.index, 'count': z.values}).set_index('user')).dropna().sort_values(by='count', ascending=False)\n",
    "names = [''.join(char for char in x if ord(char) < 128).rstrip() for x in zz.index]\n",
    "\n",
    "fig = plt.figure(figsize=(10, 6))\n",
    "ax1 = fig.add_subplot()\n",
    "ax1.bar(names, zz['count'], color='b')\n",
    "ax1.set_xticks(ax1.get_xticks(), names, rotation=90, ha='right')\n",
    "ax1.set_ylabel('Total Submissions', labelpad=10, fontsize=16)\n",
    "ax2 = ax1.twinx()\n",
    "ax2.plot(names, zz.likes/zz.views, 'ro-')\n",
    "ax2.set_ylim(ymin=0)\n",
    "ax2.set_ylabel('Conversion', labelpad=10, fontsize=16)\n",
    "\n",
    "plt.show()"
   ]
  }
 ],
 "metadata": {
  "kernelspec": {
   "display_name": "Python 3 (ipykernel)",
   "language": "python",
   "name": "python3"
  },
  "language_info": {
   "codemirror_mode": {
    "name": "ipython",
    "version": 3
   },
   "file_extension": ".py",
   "mimetype": "text/x-python",
   "name": "python",
   "nbconvert_exporter": "python",
   "pygments_lexer": "ipython3",
   "version": "3.8.12"
  }
 },
 "nbformat": 4,
 "nbformat_minor": 5
}
